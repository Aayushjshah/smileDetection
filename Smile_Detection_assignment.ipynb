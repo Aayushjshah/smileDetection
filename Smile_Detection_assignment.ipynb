{
 "cells": [
  {
   "cell_type": "markdown",
   "metadata": {
    "deletable": false,
    "editable": false,
    "nbgrader": {
     "grade": false,
     "locked": true,
     "solution": false
    }
   },
   "source": [
    "# Instructions\n",
    "\n",
    "In this assignment, you will be working on Smile Detection using Dlib's facial landmarks model. You can [download the video from this link](https://www.dropbox.com/s/likuly4s5lz735n/smile.mp4?dl=1) and check out the video on your local system. \n",
    "\n",
    "## Task\n",
    "\n",
    "You will have to complete the `smile_detector` function. In the function, you will receive an image and you have to write the logic for smile detection and return a boolean variable indicating whether the frame has a smiling person or not. \n",
    "\n",
    "We have provided the supporting code for keeping track of the smiling frames and we will use it to compare with the ground truth. If the percentage of overlap is high enough, you will obtain full marks.\n",
    "\n",
    "Finally, we also write the output video in a avi file which you can download and see from the jupyter dashboard whether the smile is getting detected correctly.\n",
    "\n",
    "You can see the output video to check whether the code detects smile or not and help to debug your code.\n",
    "\n",
    "You will have a total of 5 attempts. This assignment carries 30 marks.\n",
    "\n",
    "Some hints:\n",
    "\n",
    "1. Find the lip and/or jaw coordinates using the facial landmarks.\n",
    "1. For a person to be smiling, the ratio of width of the lip and the jaw width should be high.\n",
    "1. Return `True` if a smile is detected, else return `False`.\n",
    "\n",
    "### Also, When you complete the assignment, you can use your own video to generate the output and share on your social media channels for fun!"
   ]
  },
  {
   "cell_type": "markdown",
   "metadata": {
    "deletable": false,
    "editable": false,
    "nbgrader": {
     "grade": false,
     "locked": true,
     "solution": false
    }
   },
   "source": [
    "### Import Libraries and Load Dlib Models"
   ]
  },
  {
   "cell_type": "code",
   "execution_count": 3,
   "metadata": {
    "collapsed": true,
    "deletable": false,
    "editable": false,
    "nbgrader": {
     "grade": false,
     "locked": true,
     "solution": false
    }
   },
   "outputs": [],
   "source": [
    "# importing the necessary packages\n",
    "import cv2\n",
    "import dlib\n",
    "import numpy as np"
   ]
  },
  {
   "cell_type": "code",
   "execution_count": 4,
   "metadata": {
    "deletable": false,
    "editable": false,
    "nbgrader": {
     "grade": false,
     "locked": true,
     "solution": false
    }
   },
   "outputs": [
    {
     "name": "stdout",
     "output_type": "stream",
     "text": [
      "[INFO] loading facial landmark predictor...\n"
     ]
    }
   ],
   "source": [
    "# initialize dlib's face detector (HOG-based) and then create the facial landmark predictor\n",
    "print(\"[INFO] loading facial landmark predictor...\")\n",
    "detector = dlib.get_frontal_face_detector()\n",
    "# Dlib shape predictor model path\n",
    "MODEL_PATH = \"../resource/lib/publicdata/models/shape_predictor_68_face_landmarks.dat\"\n",
    "# Load model\n",
    "shape_predictor = dlib.shape_predictor(MODEL_PATH)"
   ]
  },
  {
   "cell_type": "markdown",
   "metadata": {
    "deletable": false,
    "editable": false,
    "nbgrader": {
     "grade": false,
     "locked": true,
     "solution": false
    }
   },
   "source": [
    "## TODO : Complete the smile detector function\n",
    "\n",
    "You need to apply the face detector and shape_predictor to the input image to get the landmarks. \n",
    "\n",
    "Then, Use the landmarks and come up with a logic so that the smile is detected for each frame.\n",
    "\n",
    "Finally, override the variable **`isSmiling`** to True if smile is detected.\n",
    "\n",
    "You can explain your logic in the next cell."
   ]
  },
  {
   "cell_type": "markdown",
   "metadata": {},
   "source": [
    "### Solution Logic\n",
    "Write your logic here"
   ]
  },
  {
   "cell_type": "code",
   "execution_count": 9,
   "metadata": {
    "collapsed": true
   },
   "outputs": [],
   "source": [
    "def smile_detector(imDlib):\n",
    "    # Detect faces\n",
    "    faces = detector(imDlib, 0)\n",
    "    \n",
    "    if len(faces):\n",
    "        landmarks = shape_predictor(imDlib, faces[0])\n",
    "    else:\n",
    "        return False\n",
    "    \n",
    "    isSmiling = False\n",
    "    \n",
    "    #Find num of faces. FOr each face run .\n",
    "    #Calucalte distance detween lip points and jaw points Lips ( 48,64)  lower lip mid point :  (57) jaw- midpoint  (8)\n",
    "    #Find jaw \n",
    "    \n",
    "    ###\n",
    "    ### YOUR CODE HERE\n",
    "    #Detect Face rectangles \n",
    "    # Detect faces in the image\n",
    "    #CONSTANTS 68 points\n",
    "    LIP_LEFT = 48 ; LIP_RIGHT = 64\n",
    "    LIP_LOWER_MID = 3  ; JAW_MID_POINT = 15;\n",
    "#     print(\"{} {}\".format(landmarks.part(48).x ,landmarks.part(48).y ))\n",
    "    lip_left_point = np.array((landmarks.part(LIP_LEFT).x ,landmarks.part(LIP_LEFT).y))\n",
    "    lip_right_point = np.array((landmarks.part(LIP_RIGHT).x ,landmarks.part(LIP_RIGHT).y))\n",
    "    lip_lower_mid_point  = np.array((landmarks.part(LIP_LOWER_MID).x ,landmarks.part(LIP_LOWER_MID).y))\n",
    "    jaw_mid_point = np.array((landmarks.part(JAW_MID_POINT).x ,landmarks.part(JAW_MID_POINT).y))\n",
    "    lip_dist = np.linalg.norm(lip_left_point - lip_right_point)\n",
    "    jaw_dist = np.linalg.norm(lip_lower_mid_point - jaw_mid_point)\n",
    "    lipTojawRatio = lip_dist / jaw_dist\n",
    "#     print(\"{} , {}\".format(lip_dist,jaw_dist))\n",
    "    if(lipTojawRatio > 0.40) :\n",
    "        isSmiling = True\n",
    "#         print(\"isSmiling : {}\".format(isSmiling))\n",
    "    ###\n",
    "    # Return True if smile is detected\n",
    "    return isSmiling"
   ]
  },
  {
   "cell_type": "markdown",
   "metadata": {},
   "source": [
    "## Main function\n",
    "\n",
    "This is the supporting function that does the video loading and saving part. \n",
    "\n",
    "It also calls the smile_detector function and keeps track of the smile_frames variable which is used in grading."
   ]
  },
  {
   "cell_type": "code",
   "execution_count": 10,
   "metadata": {
    "deletable": false,
    "editable": false,
    "nbgrader": {
     "grade": false,
     "locked": true,
     "solution": false
    }
   },
   "outputs": [
    {
     "name": "stdout",
     "output_type": "stream",
     "text": [
      "\n",
      "Processed 0 frames\n",
      "Smile detected in Frames: []\n",
      "\n",
      "Processed 50 frames\n",
      "Smile detected in Frames: [14, 15, 16, 17, 18, 19, 20, 21, 22, 23, 24, 25, 26, 27, 28, 29, 30, 31, 32, 33, 34, 35, 36, 37, 38, 39, 40, 41, 42, 43, 44, 45, 46, 47, 48, 49, 50]\n",
      "\n",
      "Processed 100 frames\n",
      "Smile detected in Frames: [14, 15, 16, 17, 18, 19, 20, 21, 22, 23, 24, 25, 26, 27, 28, 29, 30, 31, 32, 33, 34, 35, 36, 37, 38, 39, 40, 41, 42, 43, 44, 45, 46, 47, 48, 49, 50, 51, 52, 53, 54, 55, 56, 57, 58, 59, 60, 61, 62, 63, 64, 65, 66, 67, 68, 69, 70, 71, 72, 73, 74, 75, 76, 77, 78, 79, 80, 81, 82, 83, 84, 85, 86, 87, 88, 89, 90, 91, 92, 93, 94, 95, 96, 97, 98, 99, 100]\n",
      "\n",
      "Processed 150 frames\n",
      "Smile detected in Frames: [14, 15, 16, 17, 18, 19, 20, 21, 22, 23, 24, 25, 26, 27, 28, 29, 30, 31, 32, 33, 34, 35, 36, 37, 38, 39, 40, 41, 42, 43, 44, 45, 46, 47, 48, 49, 50, 51, 52, 53, 54, 55, 56, 57, 58, 59, 60, 61, 62, 63, 64, 65, 66, 67, 68, 69, 70, 71, 72, 73, 74, 75, 76, 77, 78, 79, 80, 81, 82, 83, 84, 85, 86, 87, 88, 89, 90, 91, 92, 93, 94, 95, 96, 97, 98, 99, 100, 101, 102]\n",
      "\n",
      "Processed 200 frames\n",
      "Smile detected in Frames: [14, 15, 16, 17, 18, 19, 20, 21, 22, 23, 24, 25, 26, 27, 28, 29, 30, 31, 32, 33, 34, 35, 36, 37, 38, 39, 40, 41, 42, 43, 44, 45, 46, 47, 48, 49, 50, 51, 52, 53, 54, 55, 56, 57, 58, 59, 60, 61, 62, 63, 64, 65, 66, 67, 68, 69, 70, 71, 72, 73, 74, 75, 76, 77, 78, 79, 80, 81, 82, 83, 84, 85, 86, 87, 88, 89, 90, 91, 92, 93, 94, 95, 96, 97, 98, 99, 100, 101, 102, 159, 160, 161, 162, 163, 164, 165, 166, 167, 168, 169, 170, 171, 172, 173, 174, 175, 176, 177, 178, 179, 180, 181, 182, 183, 184, 185, 186, 187, 188, 189, 190, 191]\n",
      "\n",
      "Processed 250 frames\n",
      "Smile detected in Frames: [14, 15, 16, 17, 18, 19, 20, 21, 22, 23, 24, 25, 26, 27, 28, 29, 30, 31, 32, 33, 34, 35, 36, 37, 38, 39, 40, 41, 42, 43, 44, 45, 46, 47, 48, 49, 50, 51, 52, 53, 54, 55, 56, 57, 58, 59, 60, 61, 62, 63, 64, 65, 66, 67, 68, 69, 70, 71, 72, 73, 74, 75, 76, 77, 78, 79, 80, 81, 82, 83, 84, 85, 86, 87, 88, 89, 90, 91, 92, 93, 94, 95, 96, 97, 98, 99, 100, 101, 102, 159, 160, 161, 162, 163, 164, 165, 166, 167, 168, 169, 170, 171, 172, 173, 174, 175, 176, 177, 178, 179, 180, 181, 182, 183, 184, 185, 186, 187, 188, 189, 190, 191, 216, 217, 218, 219, 220, 222, 223, 224, 225, 226, 227, 228, 229, 230, 231, 232, 233, 234, 235, 236, 237, 238, 239, 240, 241, 242, 243, 244, 245, 246, 247, 248, 249, 250]\n",
      "\n",
      "Processed 300 frames\n",
      "Smile detected in Frames: [14, 15, 16, 17, 18, 19, 20, 21, 22, 23, 24, 25, 26, 27, 28, 29, 30, 31, 32, 33, 34, 35, 36, 37, 38, 39, 40, 41, 42, 43, 44, 45, 46, 47, 48, 49, 50, 51, 52, 53, 54, 55, 56, 57, 58, 59, 60, 61, 62, 63, 64, 65, 66, 67, 68, 69, 70, 71, 72, 73, 74, 75, 76, 77, 78, 79, 80, 81, 82, 83, 84, 85, 86, 87, 88, 89, 90, 91, 92, 93, 94, 95, 96, 97, 98, 99, 100, 101, 102, 159, 160, 161, 162, 163, 164, 165, 166, 167, 168, 169, 170, 171, 172, 173, 174, 175, 176, 177, 178, 179, 180, 181, 182, 183, 184, 185, 186, 187, 188, 189, 190, 191, 216, 217, 218, 219, 220, 222, 223, 224, 225, 226, 227, 228, 229, 230, 231, 232, 233, 234, 235, 236, 237, 238, 239, 240, 241, 242, 243, 244, 245, 246, 247, 248, 249, 250, 251, 252, 253, 254, 255, 256, 257, 258, 259, 260, 261, 262, 263, 264, 265, 266, 267, 268, 269, 270, 271, 272, 273, 274, 275, 276, 277, 278, 279, 280, 281, 282, 283, 284, 285, 286, 289, 290, 291, 292, 293, 294, 295, 296, 297, 298, 299, 300]\n",
      "\n",
      "Processed 350 frames\n",
      "Smile detected in Frames: [14, 15, 16, 17, 18, 19, 20, 21, 22, 23, 24, 25, 26, 27, 28, 29, 30, 31, 32, 33, 34, 35, 36, 37, 38, 39, 40, 41, 42, 43, 44, 45, 46, 47, 48, 49, 50, 51, 52, 53, 54, 55, 56, 57, 58, 59, 60, 61, 62, 63, 64, 65, 66, 67, 68, 69, 70, 71, 72, 73, 74, 75, 76, 77, 78, 79, 80, 81, 82, 83, 84, 85, 86, 87, 88, 89, 90, 91, 92, 93, 94, 95, 96, 97, 98, 99, 100, 101, 102, 159, 160, 161, 162, 163, 164, 165, 166, 167, 168, 169, 170, 171, 172, 173, 174, 175, 176, 177, 178, 179, 180, 181, 182, 183, 184, 185, 186, 187, 188, 189, 190, 191, 216, 217, 218, 219, 220, 222, 223, 224, 225, 226, 227, 228, 229, 230, 231, 232, 233, 234, 235, 236, 237, 238, 239, 240, 241, 242, 243, 244, 245, 246, 247, 248, 249, 250, 251, 252, 253, 254, 255, 256, 257, 258, 259, 260, 261, 262, 263, 264, 265, 266, 267, 268, 269, 270, 271, 272, 273, 274, 275, 276, 277, 278, 279, 280, 281, 282, 283, 284, 285, 286, 289, 290, 291, 292, 293, 294, 295, 296, 297, 298, 299, 300, 301, 302, 303, 304, 305, 306, 307, 308, 309, 310, 311, 312, 313, 314, 315, 316, 317, 318, 319, 320, 321, 322, 323, 324, 325, 326, 327, 328, 329, 330, 331, 332, 333, 334, 335, 336, 337, 338, 339, 340, 341]\n",
      "\n",
      "Processed 400 frames\n",
      "Smile detected in Frames: [14, 15, 16, 17, 18, 19, 20, 21, 22, 23, 24, 25, 26, 27, 28, 29, 30, 31, 32, 33, 34, 35, 36, 37, 38, 39, 40, 41, 42, 43, 44, 45, 46, 47, 48, 49, 50, 51, 52, 53, 54, 55, 56, 57, 58, 59, 60, 61, 62, 63, 64, 65, 66, 67, 68, 69, 70, 71, 72, 73, 74, 75, 76, 77, 78, 79, 80, 81, 82, 83, 84, 85, 86, 87, 88, 89, 90, 91, 92, 93, 94, 95, 96, 97, 98, 99, 100, 101, 102, 159, 160, 161, 162, 163, 164, 165, 166, 167, 168, 169, 170, 171, 172, 173, 174, 175, 176, 177, 178, 179, 180, 181, 182, 183, 184, 185, 186, 187, 188, 189, 190, 191, 216, 217, 218, 219, 220, 222, 223, 224, 225, 226, 227, 228, 229, 230, 231, 232, 233, 234, 235, 236, 237, 238, 239, 240, 241, 242, 243, 244, 245, 246, 247, 248, 249, 250, 251, 252, 253, 254, 255, 256, 257, 258, 259, 260, 261, 262, 263, 264, 265, 266, 267, 268, 269, 270, 271, 272, 273, 274, 275, 276, 277, 278, 279, 280, 281, 282, 283, 284, 285, 286, 289, 290, 291, 292, 293, 294, 295, 296, 297, 298, 299, 300, 301, 302, 303, 304, 305, 306, 307, 308, 309, 310, 311, 312, 313, 314, 315, 316, 317, 318, 319, 320, 321, 322, 323, 324, 325, 326, 327, 328, 329, 330, 331, 332, 333, 334, 335, 336, 337, 338, 339, 340, 341, 372, 373, 374, 375, 376, 377, 378, 379, 380, 381, 382, 383, 384, 385, 386, 387, 388, 389, 390, 391, 392, 393, 394, 395, 396, 397, 398, 399, 400]\n"
     ]
    }
   ],
   "source": [
    "# Initializing video capture object.\n",
    "capture = cv2.VideoCapture(\"../resource/lib/publicdata/videos/smile.mp4\")\n",
    "if(False == capture.isOpened()):\n",
    "    print(\"[ERROR] Video not opened properly\")    \n",
    "\n",
    "# Create a VideoWriter object\n",
    "smileDetectionOut = cv2.VideoWriter(\"smileDetectionOutput.avi\",\n",
    "                                   cv2.VideoWriter_fourcc('M','J','P','G'),\n",
    "                                   15,(int(capture.get(cv2.CAP_PROP_FRAME_WIDTH)), \n",
    "                                       int(capture.get(cv2.CAP_PROP_FRAME_HEIGHT))))\n",
    "    \n",
    "frame_number = 0\n",
    "smile_frames = []\n",
    "while (True):\n",
    "    # grab the next frame\n",
    "    isGrabbed, frame = capture.read()\n",
    "    if not isGrabbed:\n",
    "        break\n",
    "        \n",
    "    imDlib = cv2.cvtColor(frame, cv2.COLOR_BGR2RGB)\n",
    "    frame_has_smile = smile_detector(imDlib)\n",
    "    if (True == frame_has_smile):\n",
    "        cv2.putText(frame, \"Smiling :)\", (20, 80), cv2.FONT_HERSHEY_SIMPLEX, 1.0, (0, 0, 255), 2, cv2.LINE_AA)\n",
    "        smile_frames.append(frame_number)\n",
    "#         print(\"Smile detected in Frame# {}\".format(frame_number))\n",
    "    if frame_number % 50 == 0:\n",
    "        print('\\nProcessed {} frames'.format(frame_number))\n",
    "        print(\"Smile detected in Frames: {}\".format(smile_frames))\n",
    "    # Write to VideoWriter\n",
    "    smileDetectionOut.write(frame)\n",
    "    \n",
    "    frame_number += 1\n",
    "\n",
    "capture.release()\n",
    "smileDetectionOut.release()"
   ]
  },
  {
   "cell_type": "code",
   "execution_count": 15,
   "metadata": {},
   "outputs": [
    {
     "data": {
      "text/html": [
       "<video src=\"smileDetectionOutput.avi\" controls>\n",
       "      Your browser does not support the <code>video</code> element.\n",
       "    </video>"
      ],
      "text/plain": [
       "<IPython.core.display.Video object>"
      ]
     },
     "execution_count": 15,
     "metadata": {},
     "output_type": "execute_result"
    }
   ],
   "source": [
    "#RUN SMILE Output video\n",
    "from IPython.display import Video\n",
    "\n",
    "Video(\"smileDetectionOutput.avi\")\n"
   ]
  },
  {
   "cell_type": "code",
   "execution_count": null,
   "metadata": {
    "collapsed": true,
    "deletable": false,
    "editable": false,
    "nbgrader": {
     "grade": true,
     "grade_id": "Smile Detection",
     "locked": true,
     "points": "30",
     "solution": false
    }
   },
   "outputs": [],
   "source": [
    "###\n",
    "### AUTOGRADER TEST - DO NOT REMOVE\n",
    "###\n"
   ]
  }
 ],
 "metadata": {
  "kernelspec": {
   "display_name": "Python 3 [3.6]",
   "language": "python",
   "name": "python3"
  },
  "language_info": {
   "codemirror_mode": {
    "name": "ipython",
    "version": 3
   },
   "file_extension": ".py",
   "mimetype": "text/x-python",
   "name": "python",
   "nbconvert_exporter": "python",
   "pygments_lexer": "ipython3",
   "version": "3.6.4"
  }
 },
 "nbformat": 4,
 "nbformat_minor": 2
}
